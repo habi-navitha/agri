{
 "cells": [
  {
   "cell_type": "code",
   "execution_count": 2,
   "id": "ea776ee1-1c80-4e18-a135-ae74f7efdb37",
   "metadata": {},
   "outputs": [
    {
     "name": "stdout",
     "output_type": "stream",
     "text": [
      "✅ Dataset saved as tamil_nadu_panruti_vegetable_prices.csv\n"
     ]
    }
   ],
   "source": [
    "# generate_dataset.py\n",
    "import pandas as pd\n",
    "import random\n",
    "from datetime import datetime, timedelta\n",
    "\n",
    "# Constants\n",
    "start_date = datetime.strptime('2024-04-01', '%Y-%m-%d')\n",
    "vegetables = ['Tomato', 'Brinjal', 'Onion', 'Carrot', 'Beans',\n",
    "              'Cabbage', 'Cauliflower', 'Potato', 'Chilli',\n",
    "              'Pumpkin', 'Radish', 'Spinach', 'Coriander']\n",
    "seasons = {\n",
    "    'Summer': [(4, 1), (6, 30)],\n",
    "    'Monsoon': [(7, 1), (9, 30)],\n",
    "    'Winter': [(10, 1), (12, 31)],\n",
    "    'Spring': [(1, 1), (3, 31)]\n",
    "}\n",
    "festival_dates = ['2024-04-14', '2024-08-15', '2024-10-02', '2024-11-12', '2025-01-14']\n",
    "strike_dates = ['2024-05-05', '2024-09-10', '2024-12-20']\n",
    "price_baselines = {\n",
    "    'Tomato': 20, 'Brinjal': 25, 'Onion': 30, 'Carrot': 35, 'Beans': 28,\n",
    "    'Cabbage': 18, 'Cauliflower': 26, 'Potato': 22, 'Chilli': 40,\n",
    "    'Pumpkin': 16, 'Radish': 19, 'Spinach': 15, 'Coriander': 12\n",
    "}\n",
    "\n",
    "# Generate data\n",
    "data = []\n",
    "for i in range(365):\n",
    "    current_date = start_date + timedelta(days=i)\n",
    "    date_str = current_date.strftime('%Y-%m-%d')\n",
    "    month, day = current_date.month, current_date.day\n",
    "    season = next(s for s, ((sm, sd), (em, ed)) in seasons.items()\n",
    "                  if (sm < month or (sm == month and sd <= day)) and\n",
    "                     (em > month or (em == month and ed >= day)))\n",
    "    day_of_week = current_date.strftime('%A')\n",
    "\n",
    "    for veg in vegetables:\n",
    "        temp = random.uniform(25, 38) if season == 'Summer' else random.uniform(20, 30)\n",
    "        rainfall = random.uniform(0, 40) if season == 'Monsoon' else random.uniform(0, 5)\n",
    "        humidity = random.uniform(50, 90)\n",
    "        festival = 'Yes' if date_str in festival_dates else 'No'\n",
    "        strike = 'Yes' if date_str in strike_dates else 'No'\n",
    "        supply = round(random.uniform(5, 20), 2)\n",
    "        demand = round(random.uniform(40, 100), 2)\n",
    "\n",
    "        price = price_baselines[veg] + (20 - supply) * 0.7 + demand * 0.2\n",
    "        if festival == 'Yes':\n",
    "            price += 5\n",
    "        if strike == 'Yes':\n",
    "            price += 3\n",
    "        if rainfall > 30:\n",
    "            supply *= 0.7\n",
    "            price += 2\n",
    "\n",
    "        data.append([\n",
    "            date_str, veg, round(price, 2), round(temp, 2), round(rainfall, 2),\n",
    "            round(humidity, 2), festival, strike, supply, demand, season, day_of_week\n",
    "        ])\n",
    "\n",
    "# Save to CSV\n",
    "columns = ['date', 'vegetable', 'price_per_kg', 'temperature_c', 'rainfall_mm', 'humidity_percent',\n",
    "           'festival', 'transport_strike', 'supply_quantity_ton', 'demand_index', 'season', 'day_of_week']\n",
    "df = pd.DataFrame(data, columns=columns)\n",
    "df.to_csv('data.csv', index=False)\n",
    "\n",
    "print(\"✅ Dataset saved as tamil_nadu_panruti_vegetable_prices.csv\")\n"
   ]
  },
  {
   "cell_type": "code",
   "execution_count": null,
   "id": "900a221c-0200-410b-9ff7-57965f158b72",
   "metadata": {},
   "outputs": [],
   "source": []
  }
 ],
 "metadata": {
  "kernelspec": {
   "display_name": "Python 3 (ipykernel)",
   "language": "python",
   "name": "python3"
  },
  "language_info": {
   "codemirror_mode": {
    "name": "ipython",
    "version": 3
   },
   "file_extension": ".py",
   "mimetype": "text/x-python",
   "name": "python",
   "nbconvert_exporter": "python",
   "pygments_lexer": "ipython3",
   "version": "3.12.0"
  }
 },
 "nbformat": 4,
 "nbformat_minor": 5
}
